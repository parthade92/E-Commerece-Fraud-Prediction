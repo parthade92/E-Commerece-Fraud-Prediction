data
data['Fraud_Decoded']
X = data.drop(["Fraud","Mastercard","JCB_16","JCB_15","DC_CB","ApplePayments","PaymentRegFail","Discover","Duplicate_IP","VISA_13","OrdersFailed","OrdersPending","PaypalPayments","Duplicate_Address","Trns_fail_order_fulfilled","Voyager","Maestro","Fraud_Decoded","index","customerEmail","customerPhone","customerDevice","customerIPAddress","customerBillingAddress"],axis=1)
X
y = data['Fraud_Decoded']
y
from sklearn.model_selection import train_test_split
X_train , X_test , y_train , y_test = train_test_split(X,y,test_size = 0.3,random_state = 0)
from sklearn.preprocessing import StandardScaler
ss = StandardScaler()
X_train = ss.fit_transform(X_train)   
X_test = ss.transform(X_test) 

#Machine Learning Models

#1. Decision Tree Classifier
from sklearn.tree import DecisionTreeClassifier
dtc = DecisionTreeClassifier(criterion='gini')
dtc.fit(X_train, y_train)
y_pred = dtc.predict(X_test)
y_pred
from sklearn.metrics import accuracy_score,confusion_matrix
print("Percentile Accuracy of Decision Tree Classifier is: ", accuracy_score(y_test, y_pred)*100)
sns.heatmap(data = confusion_matrix(y_test,y_pred),annot = True)
results = pd.DataFrame()   #creating an empty data frame
results
tempResults = pd.DataFrame({'Algorithm':['Decision Tree Classifier'], 'Accuracy':[accuracy_score(y_test, y_pred)]})
results = pd.concat( [results, tempResults] )
results = results[['Algorithm','Accuracy']]
results

#2. Random Forest Classifier
from sklearn.ensemble import RandomForestClassifier
rfc = RandomForestClassifier()
rfc.fit(X_train, y_train)
y_pred = rfc.predict(X_test)
y_pred
from sklearn.metrics import accuracy_score
print("Percentile Accuracy of Random Forest Classifier is: ",accuracy_score(y_test, y_pred)*100)
sns.heatmap(data = confusion_matrix(y_test,y_pred),annot = True)
tempResults = pd.DataFrame({'Algorithm':['Random Forest Classifier Method'], 'Accuracy':[accuracy_score(y_test, y_pred)]})
results = pd.concat( [results, tempResults] )
results = results[['Algorithm','Accuracy']]
results

#3.Support Vector Machines
from sklearn import svm
svc = svm.SVC()
svc.fit(X_train, y_train)
y_pred = svc.predict(X_test)
y_pred
from sklearn.metrics import accuracy_score
print("Percentile Accuracy of SVM is: ",accuracy_score(y_test, y_pred)*100)
sns.heatmap(data = confusion_matrix(y_test,y_pred),annot = True)
tempResults = pd.DataFrame({'Algorithm':['Support Vector Machines'], 'Accuracy':[accuracy_score(y_test, y_pred)]})
results = pd.concat( [results, tempResults] )
results = results[['Algorithm','Accuracy']]
results
#4. Logistic Regression
from sklearn.linear_model import LogisticRegression
lr = LogisticRegression()
lr.fit(X_train, y_train)
y_pred = lr.predict(X_test)
y_pred
from sklearn.metrics import accuracy_score
print("Percentile Accuracy of logistic regression is: " , accuracy_score(y_test, y_pred)*100)
sns.heatmap(data = confusion_matrix(y_test,y_pred),annot = True)
tempResults = pd.DataFrame({'Algorithm':['Logistic Regression'], 'Accuracy':[accuracy_score(y_test, y_pred)]})
results = pd.concat( [results, tempResults] )
results = results[['Algorithm','Accuracy']]
results
#5. Gradient Boosting Classifier
from sklearn.ensemble import GradientBoostingClassifier
model= GradientBoostingClassifier(n_estimators=100, learning_rate=1.0, max_depth=1, random_state=0)
model.fit(X_train, y_train)
y_pred = model.predict(X_test)
y_pred
from sklearn.metrics import accuracy_score
print("Percentile Accuracy of Gradient Boosting is: " , accuracy_score(y_test, y_pred)*100)
sns.heatmap(data = confusion_matrix(y_test,y_pred),annot = True)
tempResults = pd.DataFrame({'Algorithm':['Gradient Boosting Classifier'], 'Accuracy':[accuracy_score(y_test, y_pred)]})
results = pd.concat( [results, tempResults] )
results = results[['Algorithm','Accuracy']]
results
#6.K-Nearest Neighbors
from sklearn.neighbors import KNeighborsClassifier
model = KNeighborsClassifier(n_neighbors=6)
model.fit(X_train, y_train)
y_pred = model.predict(X_test)
y_pred
from sklearn.metrics import accuracy_score
print("Percentile Accuracy of K-Nearest Neighbours is: " , accuracy_score(y_test, y_pred)*100)
sns.heatmap(data = confusion_matrix(y_test,y_pred),annot = True)
tempResults = pd.DataFrame({'Algorithm':['K-Nearest Neighbors'], 'Accuracy':[accuracy_score(y_test, y_pred)]})
results = pd.concat( [results, tempResults] )
results = results[['Algorithm','Accuracy']]
results
#7. K Means
from sklearn.cluster import KMeans
model = KMeans(n_clusters=2, random_state=0)
model.fit(X_train,y_train)
y_pred = model.predict(X_test)
y_pred
from sklearn.metrics import accuracy_score
print("Percentile Accuracy of K-Means Neighbours is: " , accuracy_score(y_test, y_pred)*100)
sns.heatmap(data = confusion_matrix(y_test,y_pred),annot = True)
tempResults = pd.DataFrame({'Algorithm':['K-Means'], 'Accuracy':[accuracy_score(y_test, y_pred)]})
results = pd.concat( [results, tempResults] )
results = results[['Algorithm','Accuracy']]
results
#8. Linear Regression 
from sklearn.linear_model import LogisticRegression
lr = LogisticRegression()
lr.fit(X_train, y_train)
y_pred = lr.predict(X_test)
y_pred
from sklearn.metrics import accuracy_score,confusion_matrix
print("Percentile Accuracy of logistic regression is: " , accuracy_score(y_test, y_pred)*100)
sns.heatmap(data = confusion_matrix(y_test,y_pred),annot = True)
results = pd.DataFrame()   
results
tempResults = pd.DataFrame({'Algorithm':['Logistic Regression'], 'Accuracy':[accuracy_score(y_test, y_pred)]})
results = pd.concat( [results, tempResults] )
results = results[['Algorithm','Accuracy']]
results

